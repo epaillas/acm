{
 "cells": [
  {
   "cell_type": "code",
   "execution_count": 1,
   "metadata": {},
   "outputs": [],
   "source": [
    "import matplotlib.pyplot as plt\n",
    "import acm.observables.emc as emc\n",
    "from pathlib import Path\n",
    "import numpy as np\n",
    "import torch\n",
    "plt.style.use(['science','no-latex'])"
   ]
  },
  {
   "cell_type": "code",
   "execution_count": 2,
   "metadata": {},
   "outputs": [],
   "source": [
    "stat_map = {\n",
    "    'number_density': emc.GalaxyNumberDensity(\n",
    "        select_filters={'cosmo_idx': [0], 'hod_idx': [30,], 'multipoles': [0, 2,]},\n",
    "        slice_filters={},\n",
    "    ),\n",
    "    'wp': emc.GalaxyProjectedCorrelationFunction(\n",
    "        select_filters={'cosmo_idx': [0], 'hod_idx': [30,], 'multipoles': [0, 2]},\n",
    "        slice_filters={}),\n",
    "    'tpcf': emc.GalaxyCorrelationFunctionMultipoles(\n",
    "        select_filters={'cosmo_idx': [0], 'hod_idx': [30,], 'multipoles': [0, 2,4]},\n",
    "        slice_filters={}),\n",
    "    'pk': emc.GalaxyPowerSpectrumMultipoles(\n",
    "        select_filters={'cosmo_idx': [0], 'hod_idx': [30,]}, \n",
    "        slice_filters={}),\n",
    "    'bk': emc.GalaxyBispectrumMultipoles(\n",
    "        select_filters={'cosmo_idx': [0], 'hod_idx': [30,]}, \n",
    "        slice_filters={}),\n",
    "    'wst': emc.WaveletScatteringTransform(\n",
    "        select_filters={'cosmo_idx': [0], 'hod_idx': [30,]}, \n",
    "        slice_filters={}),\n",
    "    'dt_voids': emc.DTVoidGalaxyCorrelationFunctionMultipoles(\n",
    "        select_filters={'cosmo_idx': [0], 'hod_idx': [30,]}, \n",
    "        slice_filters={}),\n",
    "    'dsc_pk': emc.DensitySplitPowerSpectrumMultipoles(\n",
    "        select_filters={'cosmo_idx': [0], 'hod_idx': [30,]}, \n",
    "        slice_filters={}),\n",
    "    'minkowski': emc.MinkowskiFunctionals(\n",
    "        select_filters={'cosmo_idx': [0], 'hod_idx': [30,]}, \n",
    "        slice_filters={}),\n",
    "}"
   ]
  },
  {
   "cell_type": "code",
   "execution_count": 3,
   "metadata": {},
   "outputs": [],
   "source": [
    "\n",
    "import torch \n",
    "import torch.func as func\n",
    "\n",
    "def get_gradient(statistic):\n",
    "    fiducial_parameters = stat_map[statistic].lhc_x\n",
    "    fiducial_parameters = torch.tensor(fiducial_parameters.astype(np.float32), requires_grad=True,).unsqueeze(0)\n",
    "    def model_fn(x_batch):\n",
    "        # Add batch dimension for the model\n",
    "        return stat_map[statistic].model.get_prediction(x_batch)\n",
    "    return func.jacrev(model_fn)(fiducial_parameters).detach().squeeze().numpy()\n",
    "\n",
    "def get_full_gradients(statistics):\n",
    "    return np.vstack([get_gradient(stat) for stat in statistics],)\n",
    "\n",
    "def get_precision_matrix(full_covariance_vector):\n",
    "    if full_covariance_vector.shape[1] == 1:\n",
    "        # For 1D case, calculate variance manually and force a 1x1 matrix\n",
    "        variance = np.var(full_covariance_vector, ddof=1)\n",
    "        covariance_matrix = np.array([[variance]])\n",
    "    else:\n",
    "        covariance_matrix = np.cov(full_covariance_vector.T)\n",
    "    correction = stat_map['tpcf'].get_covariance_correction(\n",
    "        n_s=full_covariance_vector.shape[0],\n",
    "        n_d=len(covariance_matrix),\n",
    "        n_theta=20,\n",
    "        method='percival',\n",
    "    )\n",
    "    precision_matrix = np.linalg.inv(correction * covariance_matrix)\n",
    "    return precision_matrix\n",
    "\n",
    "\n",
    "def get_fisher_log_det(statistics,):\n",
    "    full_covariance_vector = np.hstack([stat_map[stat].small_box_y for stat in statistics])\n",
    "    precision_matrix = get_precision_matrix(full_covariance_vector)\n",
    "    gradients = get_full_gradients(statistics)\n",
    "    fisher_matrix = np.dot(gradients.T, np.dot(precision_matrix, gradients))\n",
    "    sign, fisher_log_det = np.linalg.slogdet(fisher_matrix)\n",
    "    return fisher_log_det"
   ]
  },
  {
   "cell_type": "code",
   "execution_count": 4,
   "metadata": {},
   "outputs": [],
   "source": [
    "total_fisher_tpcf = get_fisher_log_det(['tpcf'])"
   ]
  },
  {
   "cell_type": "code",
   "execution_count": 38,
   "metadata": {},
   "outputs": [
    {
     "data": {
      "text/plain": [
       "80.10231256664001"
      ]
     },
     "execution_count": 38,
     "metadata": {},
     "output_type": "execute_result"
    }
   ],
   "source": [
    "get_fisher_log_det(['tpcf','bk'])"
   ]
  },
  {
   "cell_type": "code",
   "execution_count": 39,
   "metadata": {},
   "outputs": [
    {
     "data": {
      "text/plain": [
       "88.05439646342658"
      ]
     },
     "execution_count": 39,
     "metadata": {},
     "output_type": "execute_result"
    }
   ],
   "source": [
    "get_fisher_log_det(['tpcf','bk', 'dt_voids'])"
   ]
  },
  {
   "cell_type": "code",
   "execution_count": 5,
   "metadata": {},
   "outputs": [],
   "source": [
    "\n",
    "def precompute_derivatives_and_covariance(statistics=['tpcf', 'bk']):\n",
    "    precomputed = {}\n",
    "    precomputed['derivatives'] = {}\n",
    "    for stat_name in statistics:\n",
    "        precomputed['derivatives'][stat_name] = get_gradient(stat_name)\n",
    "    \n",
    "    precomputed['covariance_data'] = {}\n",
    "    for stat_name in statistics:\n",
    "        precomputed['covariance_data'][stat_name] = stat_map[stat_name].small_box_y\n",
    "    \n",
    "    precomputed['bin_counts'] = {\n",
    "        stat_name: precomputed['derivatives'][stat_name].shape[1] \n",
    "        for stat_name in statistics\n",
    "    }\n",
    "    return precomputed"
   ]
  },
  {
   "cell_type": "code",
   "execution_count": 7,
   "metadata": {},
   "outputs": [],
   "source": [
    "\n",
    "\n",
    "def greedy_bin_selection(precomputed, max_bins=10,):\n",
    "    derivatives = precomputed['derivatives']\n",
    "    covariance_data = precomputed['covariance_data']\n",
    "    statistics = list(derivatives.keys())\n",
    "    \n",
    "    available_bins = {\n",
    "        stat_name: list(range(derivatives[stat_name].shape[0]))\n",
    "        for stat_name in statistics\n",
    "    }\n",
    "    selected_bins = {stat_name: [] for stat_name in statistics}\n",
    "    \n",
    "    current_log_det = float('-inf')\n",
    "    total_selected_bins = 0\n",
    "    \n",
    "    all_bins = []\n",
    "    for stat_name in statistics:\n",
    "        for bin_idx in available_bins[stat_name]:\n",
    "            all_bins.append((stat_name, bin_idx))\n",
    "    \n",
    "    print(f\"Total bins to evaluate: {len(all_bins)}\")\n",
    "    all_log_dets = []\n",
    "    \n",
    "    while total_selected_bins < max_bins and all_bins:\n",
    "        best_bin = None\n",
    "        best_log_det = current_log_det\n",
    "        best_improvement = 0\n",
    "        \n",
    "        for i, (stat_name, bin_idx) in enumerate(all_bins):\n",
    "            temp_selected = {\n",
    "                stat: selected_bins[stat].copy() for stat in statistics\n",
    "            }\n",
    "            temp_selected[stat_name].append(bin_idx)\n",
    "            \n",
    "            new_log_det = evaluate_selected_bins_precomputed(\n",
    "                temp_selected, \n",
    "                derivatives, \n",
    "                covariance_data\n",
    "            )\n",
    "            \n",
    "            improvement = new_log_det - current_log_det\n",
    "            if improvement > best_improvement:\n",
    "                best_improvement = improvement\n",
    "                best_log_det = new_log_det\n",
    "                best_bin = i\n",
    "\n",
    "        \n",
    "        if best_bin is None or best_improvement < 1e-6:\n",
    "            print(\"No significant improvement found, stopping early\")\n",
    "            break\n",
    "        \n",
    "        stat_name, bin_idx = all_bins.pop(best_bin)\n",
    "        selected_bins[stat_name].append(bin_idx)\n",
    "        total_selected_bins += 1\n",
    "        current_log_det = best_log_det\n",
    "        all_log_dets.append(current_log_det)\n",
    "        \n",
    "        if total_selected_bins % 5 == 0 or total_selected_bins == max_bins:\n",
    "            print(f\"Selected {total_selected_bins}/{max_bins} bins, current log-det: {current_log_det:.4f}\")\n",
    "            distribution = \", \".join([f\"{stat}: {len(bins)}\" for stat, bins in selected_bins.items()])\n",
    "            print(f\"Distribution: {distribution}\")\n",
    "    \n",
    "    return selected_bins, current_log_det, all_log_dets\n",
    "\n",
    "def evaluate_selected_bins_precomputed(selected_bins, derivatives, covariance_data):\n",
    "\n",
    "    selected_cov_data = []\n",
    "    selected_grads = []\n",
    "    \n",
    "    for stat_name, bin_indices in selected_bins.items():\n",
    "        if not bin_indices:\n",
    "            continue\n",
    "            \n",
    "        full_cov_data = covariance_data[stat_name]\n",
    "        selected_cov_data.append(full_cov_data[:, bin_indices])\n",
    "        \n",
    "        full_derivatives = derivatives[stat_name]\n",
    "        selected_grads.append(full_derivatives[bin_indices,:])\n",
    "    \n",
    "    full_covariance_vector = np.hstack(selected_cov_data)\n",
    "    gradients = np.vstack(selected_grads)\n",
    "    precision_matrix = get_precision_matrix(full_covariance_vector)\n",
    "    fisher_matrix = gradients.T @ precision_matrix @ gradients\n",
    "    \n",
    "    sign, log_det = np.linalg.slogdet(fisher_matrix)\n",
    "    if sign <= 0:\n",
    "        return float('-inf')\n",
    "    \n",
    "    return log_det\n",
    "\n",
    "def run_optimization(statistics=['tpcf', 'bk'], max_bins=100):\n",
    "    print(f\"Precomputing data for statistics: {statistics}\")\n",
    "    precomputed_data = precompute_derivatives_and_covariance(statistics)\n",
    "    \n",
    "    print(f\"\\nRunning greedy selection with max_bins={max_bins}\")\n",
    "    selected_bins, final_log_det, all_log_dets = greedy_bin_selection(precomputed_data, max_bins=max_bins)\n",
    "    \n",
    "    print(\"\\nFinal selection:\")\n",
    "    for stat, bins in selected_bins.items():\n",
    "        print(f\"{stat}: {len(bins)} bins selected\")\n",
    "    print(f\"Total: {sum(len(bins) for bins in selected_bins.values())} bins\")\n",
    "    print(f\"Final log-determinant: {final_log_det:.4f}\")\n",
    "    \n",
    "    return selected_bins, final_log_det, all_log_dets"
   ]
  },
  {
   "cell_type": "code",
   "execution_count": 19,
   "metadata": {},
   "outputs": [
    {
     "name": "stdout",
     "output_type": "stream",
     "text": [
      "Precomputing data for statistics: ['tpcf']\n",
      "\n",
      "Running greedy selection with max_bins=100\n",
      "Total bins to evaluate: 150\n",
      "Selected 5/100 bins, current log-det: -403.5492\n",
      "Distribution: tpcf: 5\n",
      "Selected 10/100 bins, current log-det: -238.4182\n",
      "Distribution: tpcf: 10\n",
      "Selected 15/100 bins, current log-det: -97.5448\n",
      "Distribution: tpcf: 15\n",
      "Selected 20/100 bins, current log-det: 28.5371\n",
      "Distribution: tpcf: 20\n",
      "Selected 25/100 bins, current log-det: 35.0017\n",
      "Distribution: tpcf: 25\n",
      "Selected 30/100 bins, current log-det: 38.0132\n",
      "Distribution: tpcf: 30\n",
      "Selected 35/100 bins, current log-det: 39.7295\n",
      "Distribution: tpcf: 35\n",
      "Selected 40/100 bins, current log-det: 41.0865\n",
      "Distribution: tpcf: 40\n",
      "Selected 45/100 bins, current log-det: 41.9316\n",
      "Distribution: tpcf: 45\n",
      "Selected 50/100 bins, current log-det: 42.5520\n",
      "Distribution: tpcf: 50\n",
      "Selected 55/100 bins, current log-det: 42.9870\n",
      "Distribution: tpcf: 55\n",
      "Selected 60/100 bins, current log-det: 43.5657\n",
      "Distribution: tpcf: 60\n",
      "Selected 65/100 bins, current log-det: 44.0012\n",
      "Distribution: tpcf: 65\n",
      "Selected 70/100 bins, current log-det: 44.3408\n",
      "Distribution: tpcf: 70\n",
      "Selected 75/100 bins, current log-det: 44.6057\n",
      "Distribution: tpcf: 75\n",
      "Selected 80/100 bins, current log-det: 44.9635\n",
      "Distribution: tpcf: 80\n",
      "Selected 85/100 bins, current log-det: 45.2376\n",
      "Distribution: tpcf: 85\n",
      "Selected 90/100 bins, current log-det: 45.4526\n",
      "Distribution: tpcf: 90\n",
      "Selected 95/100 bins, current log-det: 45.6108\n",
      "Distribution: tpcf: 95\n",
      "Selected 100/100 bins, current log-det: 45.7622\n",
      "Distribution: tpcf: 100\n",
      "\n",
      "Final selection:\n",
      "tpcf: 100 bins selected\n",
      "Total: 100 bins\n",
      "Final log-determinant: 45.7622\n"
     ]
    }
   ],
   "source": [
    "selected_bins, final_log_det, all_log_dets = run_optimization(statistics=['tpcf', ], max_bins=100)"
   ]
  },
  {
   "cell_type": "code",
   "execution_count": 21,
   "metadata": {},
   "outputs": [
    {
     "data": {
      "text/plain": [
       "100"
      ]
     },
     "execution_count": 21,
     "metadata": {},
     "output_type": "execute_result"
    }
   ],
   "source": [
    "len(selected_bins['tpcf'])"
   ]
  },
  {
   "cell_type": "code",
   "execution_count": 18,
   "metadata": {},
   "outputs": [
    {
     "data": {
      "text/plain": [
       "(30.0, 51.048071328204266)"
      ]
     },
     "execution_count": 18,
     "metadata": {},
     "output_type": "execute_result"
    },
    {
     "data": {
      "image/png": "[encoded data removed]",
      "text/plain": [
       "<Figure size 350x262.5 with 1 Axes>"
      ]
     },
     "metadata": {},
     "output_type": "display_data"
    }
   ],
   "source": [
    "plt.plot(all_log_dets)\n",
    "plt.axhline(y=final_log_det, color='r', linestyle='--', label='Final log-det')\n",
    "plt.axvline(x=100, linestyle='dashed',)\n",
    "plt.axvline(x=75, linestyle='dashed',)\n",
    "plt.ylim(30,final_log_det*1.1)"
   ]
  },
  {
   "cell_type": "code",
   "execution_count": 22,
   "metadata": {},
   "outputs": [],
   "source": [
    "#selected_bins, final_log_det, all_log_dets = run_optimization(statistics=['tpcf', 'bk', 'dt_voids', 'wp', 'wst',], max_bins=250)"
   ]
  },
  {
   "cell_type": "code",
   "execution_count": 23,
   "metadata": {},
   "outputs": [],
   "source": [
    "#selected_bins, final_log_det = run_optimization(statistics=['tpcf', 'bk', 'dt_voids', 'minkowski'], max_bins=100)"
   ]
  },
  {
   "cell_type": "code",
   "execution_count": 24,
   "metadata": {},
   "outputs": [],
   "source": [
    "#selected_bins, final_log_det = run_optimization(statistics=['tpcf', 'bk'], max_bins=100)"
   ]
  },
  {
   "cell_type": "code",
   "execution_count": 34,
   "metadata": {},
   "outputs": [],
   "source": [
    "from sunbird.inference.pocomc import PocoMCSampler\n",
    "from sunbird.inference.priors import Yuan23, AbacusSummit\n",
    "from sunbird import setup_logging\n",
    "\n",
    "import acm.observables.emc as emc\n",
    "\n",
    "from pathlib import Path\n",
    "import numpy as np\n",
    "import argparse\n",
    "\n",
    "def get_priors(cosmo=True, hod=True):\n",
    "    stats_module = 'scipy.stats'\n",
    "    priors, ranges, labels = {}, {}, {}\n",
    "    if cosmo:\n",
    "        priors.update(AbacusSummit(stats_module).priors)\n",
    "        ranges.update(AbacusSummit(stats_module).ranges)\n",
    "        labels.update(AbacusSummit(stats_module).labels)\n",
    "    if hod:\n",
    "        priors.update(Yuan23(stats_module).priors)\n",
    "        ranges.update(Yuan23(stats_module).ranges)\n",
    "        labels.update(Yuan23(stats_module).labels)\n",
    "    return priors, ranges, labels"
   ]
  },
  {
   "cell_type": "code",
   "execution_count": 35,
   "metadata": {},
   "outputs": [],
   "source": [
    "priors, ranges, labels = get_priors(cosmo=True, hod=True)\n",
    "fixed_params = ['w0_fld', 'wa_fld', 'nrun', 'N_ur']\n",
    "add_emulator_error = True"
   ]
  },
  {
   "cell_type": "code",
   "execution_count": null,
   "metadata": {},
   "outputs": [],
   "source": [
    "cosmo_idx, hod_idx = 0, 30\n",
    "observable = stat_map['tpcf']\n",
    "observable.select_filters['cosmo_idx'] = cosmo_idx\n",
    "observable.select_filters['hod_idx'] = hod_idx\n",
    "\n",
    "observable = emc.CombinedObservable([observable])"
   ]
  },
  {
   "cell_type": "code",
   "execution_count": 37,
   "metadata": {},
   "outputs": [],
   "source": [
    "data_x = observable.lhc_x\n",
    "data_x_names = observable.lhc_x_names\n",
    "data_y = observable.lhc_y\n",
    "\n",
    "covariance_matrix = observable.get_covariance_matrix(divide_factor=64)\n",
    "if add_emulator_error:\n",
    "    emulator_error = observable.get_emulator_error()\n",
    "    covariance_matrix += np.diag(emulator_error**2)\n"
   ]
  },
  {
   "cell_type": "code",
   "execution_count": 38,
   "metadata": {},
   "outputs": [],
   "source": [
    "correction = observable.get_covariance_correction(\n",
    "    n_s=len(observable.small_box_y),\n",
    "    n_d=len(covariance_matrix),\n",
    "    n_theta=len(data_x_names) - len(fixed_params),\n",
    "    method='percival',\n",
    ")\n",
    "precision_matrix = np.linalg.inv(correction * covariance_matrix)\n",
    "\n",
    "fixed_params = {key: data_x[data_x_names.index(key)]\n",
    "                    for key in fixed_params}\n",
    "\n",
    "\n",
    "model = observable.model\n"
   ]
  },
  {
   "cell_type": "code",
   "execution_count": 39,
   "metadata": {},
   "outputs": [
    {
     "name": "stderr",
     "output_type": "stream",
     "text": []
    },
    {
     "ename": "AttributeError",
     "evalue": "'numpy.ndarray' object has no attribute 'device'",
     "output_type": "error",
     "traceback": [
      "\u001b[0;31m---------------------------------------------------------------------------\u001b[0m",
      "\u001b[0;31mAttributeError\u001b[0m                            Traceback (most recent call last)",
      "Cell \u001b[0;32mIn[39], line 12\u001b[0m\n\u001b[1;32m      1\u001b[0m sampler \u001b[38;5;241m=\u001b[39m PocoMCSampler(\n\u001b[1;32m      2\u001b[0m     observation\u001b[38;5;241m=\u001b[39mdata_y,\n\u001b[1;32m      3\u001b[0m     precision_matrix\u001b[38;5;241m=\u001b[39mprecision_matrix,\n\u001b[0;32m   (...)\u001b[0m\n\u001b[1;32m      9\u001b[0m     ellipsoid\u001b[38;5;241m=\u001b[39m\u001b[38;5;28;01mTrue\u001b[39;00m\n\u001b[1;32m     10\u001b[0m )\n\u001b[0;32m---> 12\u001b[0m \u001b[43msampler\u001b[49m\u001b[43m(\u001b[49m\u001b[43mvectorize\u001b[49m\u001b[38;5;241;43m=\u001b[39;49m\u001b[38;5;28;43;01mTrue\u001b[39;49;00m\u001b[43m,\u001b[49m\u001b[43m \u001b[49m\u001b[43mn_total\u001b[49m\u001b[38;5;241;43m=\u001b[39;49m\u001b[38;5;241;43m500\u001b[39;49m\u001b[43m)\u001b[49m\n",
      "File \u001b[0;32m/global/u1/c/cuesta/sunbird/sunbird/inference/pocomc.py:137\u001b[0m, in \u001b[0;36mPocoMCSampler.__call__\u001b[0;34m(self, vectorize, random_state, precondition, n_total, progress, **kwargs)\u001b[0m\n\u001b[1;32m    126\u001b[0m prior \u001b[38;5;241m=\u001b[39m pocomc\u001b[38;5;241m.\u001b[39mPrior([value \u001b[38;5;28;01mfor\u001b[39;00m key, value \u001b[38;5;129;01min\u001b[39;00m \u001b[38;5;28mself\u001b[39m\u001b[38;5;241m.\u001b[39mpriors\u001b[38;5;241m.\u001b[39mitems() \u001b[38;5;28;01mif\u001b[39;00m key \u001b[38;5;129;01mnot\u001b[39;00m \u001b[38;5;129;01min\u001b[39;00m \u001b[38;5;28mself\u001b[39m\u001b[38;5;241m.\u001b[39mfixed_parameters\u001b[38;5;241m.\u001b[39mkeys()])\n\u001b[1;32m    128\u001b[0m \u001b[38;5;28mself\u001b[39m\u001b[38;5;241m.\u001b[39msampler \u001b[38;5;241m=\u001b[39m pocomc\u001b[38;5;241m.\u001b[39mSampler(\n\u001b[1;32m    129\u001b[0m     likelihood\u001b[38;5;241m=\u001b[39m\u001b[38;5;28mself\u001b[39m\u001b[38;5;241m.\u001b[39mlog_likelihood,\n\u001b[1;32m    130\u001b[0m     prior\u001b[38;5;241m=\u001b[39mprior,\n\u001b[0;32m   (...)\u001b[0m\n\u001b[1;32m    134\u001b[0m     \u001b[38;5;241m*\u001b[39m\u001b[38;5;241m*\u001b[39mkwargs,\n\u001b[1;32m    135\u001b[0m )\n\u001b[0;32m--> 137\u001b[0m \u001b[38;5;28;43mself\u001b[39;49m\u001b[38;5;241;43m.\u001b[39;49m\u001b[43msampler\u001b[49m\u001b[38;5;241;43m.\u001b[39;49m\u001b[43mrun\u001b[49m\u001b[43m(\u001b[49m\u001b[43mprogress\u001b[49m\u001b[38;5;241;43m=\u001b[39;49m\u001b[43mprogress\u001b[49m\u001b[43m,\u001b[49m\u001b[43m \u001b[49m\u001b[43mn_total\u001b[49m\u001b[38;5;241;43m=\u001b[39;49m\u001b[43mn_total\u001b[49m\u001b[43m)\u001b[49m\n",
      "File \u001b[0;32m/pscratch/sd/c/cuesta/envs/acm/lib/python3.11/site-packages/pocomc/sampler.py:452\u001b[0m, in \u001b[0;36mSampler.run\u001b[0;34m(self, n_total, n_evidence, progress, resume_state_path, save_every)\u001b[0m\n\u001b[1;32m    450\u001b[0m logdetj \u001b[38;5;241m=\u001b[39m \u001b[38;5;28mself\u001b[39m\u001b[38;5;241m.\u001b[39mscaler\u001b[38;5;241m.\u001b[39minverse(u)[\u001b[38;5;241m1\u001b[39m]\n\u001b[1;32m    451\u001b[0m logp \u001b[38;5;241m=\u001b[39m \u001b[38;5;28mself\u001b[39m\u001b[38;5;241m.\u001b[39mlog_prior(x)\n\u001b[0;32m--> 452\u001b[0m logl, blobs \u001b[38;5;241m=\u001b[39m \u001b[38;5;28;43mself\u001b[39;49m\u001b[38;5;241;43m.\u001b[39;49m\u001b[43m_log_like\u001b[49m\u001b[43m(\u001b[49m\u001b[43mx\u001b[49m\u001b[43m)\u001b[49m\n\u001b[1;32m    453\u001b[0m \u001b[38;5;28mself\u001b[39m\u001b[38;5;241m.\u001b[39mcalls \u001b[38;5;241m+\u001b[39m\u001b[38;5;241m=\u001b[39m \u001b[38;5;28mself\u001b[39m\u001b[38;5;241m.\u001b[39mn_active\n\u001b[1;32m    455\u001b[0m \u001b[38;5;66;03m# Resample prior particles with infinite likelihoods\u001b[39;00m\n",
      "File \u001b[0;32m/pscratch/sd/c/cuesta/envs/acm/lib/python3.11/site-packages/pocomc/sampler.py:824\u001b[0m, in \u001b[0;36mSampler._log_like\u001b[0;34m(self, x)\u001b[0m\n\u001b[1;32m    808\u001b[0m \u001b[38;5;250m\u001b[39m\u001b[38;5;124;03m\"\"\"\u001b[39;00m\n\u001b[1;32m    809\u001b[0m \u001b[38;5;124;03mCompute log likelihood.\u001b[39;00m\n\u001b[1;32m    810\u001b[0m \n\u001b[0;32m   (...)\u001b[0m\n\u001b[1;32m    821\u001b[0m \u001b[38;5;124;03m    Additional data (default is ``None``).\u001b[39;00m\n\u001b[1;32m    822\u001b[0m \u001b[38;5;124;03m\"\"\"\u001b[39;00m\n\u001b[1;32m    823\u001b[0m \u001b[38;5;28;01mif\u001b[39;00m \u001b[38;5;28mself\u001b[39m\u001b[38;5;241m.\u001b[39mvectorize:\n\u001b[0;32m--> 824\u001b[0m     \u001b[38;5;28;01mreturn\u001b[39;00m \u001b[38;5;28;43mself\u001b[39;49m\u001b[38;5;241;43m.\u001b[39;49m\u001b[43mlog_likelihood\u001b[49m\u001b[43m(\u001b[49m\u001b[43mx\u001b[49m\u001b[43m)\u001b[49m, \u001b[38;5;28;01mNone\u001b[39;00m\n\u001b[1;32m    825\u001b[0m \u001b[38;5;28;01melif\u001b[39;00m \u001b[38;5;28mself\u001b[39m\u001b[38;5;241m.\u001b[39mpool \u001b[38;5;129;01mis\u001b[39;00m \u001b[38;5;129;01mnot\u001b[39;00m \u001b[38;5;28;01mNone\u001b[39;00m:\n\u001b[1;32m    826\u001b[0m     results \u001b[38;5;241m=\u001b[39m \u001b[38;5;28mlist\u001b[39m(\u001b[38;5;28mself\u001b[39m\u001b[38;5;241m.\u001b[39mdistribute(\u001b[38;5;28mself\u001b[39m\u001b[38;5;241m.\u001b[39mlog_likelihood, x))\n",
      "File \u001b[0;32m/pscratch/sd/c/cuesta/envs/acm/lib/python3.11/site-packages/pocomc/tools.py:260\u001b[0m, in \u001b[0;36mFunctionWrapper.__call__\u001b[0;34m(self, x)\u001b[0m\n\u001b[1;32m    246\u001b[0m \u001b[38;5;28;01mdef\u001b[39;00m \u001b[38;5;21m__call__\u001b[39m(\u001b[38;5;28mself\u001b[39m, x):\n\u001b[1;32m    247\u001b[0m \u001b[38;5;250m    \u001b[39m\u001b[38;5;124;03m\"\"\"\u001b[39;00m\n\u001b[1;32m    248\u001b[0m \u001b[38;5;124;03m        Evaluate log-likelihood or log-prior function.\u001b[39;00m\n\u001b[1;32m    249\u001b[0m \n\u001b[0;32m   (...)\u001b[0m\n\u001b[1;32m    258\u001b[0m \u001b[38;5;124;03m        f(x)\u001b[39;00m\n\u001b[1;32m    259\u001b[0m \u001b[38;5;124;03m    \"\"\"\u001b[39;00m\n\u001b[0;32m--> 260\u001b[0m     \u001b[38;5;28;01mreturn\u001b[39;00m \u001b[38;5;28;43mself\u001b[39;49m\u001b[38;5;241;43m.\u001b[39;49m\u001b[43mf\u001b[49m\u001b[43m(\u001b[49m\u001b[43mx\u001b[49m\u001b[43m,\u001b[49m\u001b[43m \u001b[49m\u001b[38;5;241;43m*\u001b[39;49m\u001b[38;5;28;43mself\u001b[39;49m\u001b[38;5;241;43m.\u001b[39;49m\u001b[43margs\u001b[49m\u001b[43m,\u001b[49m\u001b[43m \u001b[49m\u001b[38;5;241;43m*\u001b[39;49m\u001b[38;5;241;43m*\u001b[39;49m\u001b[38;5;28;43mself\u001b[39;49m\u001b[38;5;241;43m.\u001b[39;49m\u001b[43mkwargs\u001b[49m\u001b[43m)\u001b[49m\n",
      "File \u001b[0;32m/global/u1/c/cuesta/sunbird/sunbird/inference/pocomc.py:105\u001b[0m, in \u001b[0;36mPocoMCSampler.log_likelihood\u001b[0;34m(self, theta)\u001b[0m\n\u001b[1;32m    103\u001b[0m batch \u001b[38;5;241m=\u001b[39m \u001b[38;5;28mlen\u001b[39m(theta\u001b[38;5;241m.\u001b[39mshape) \u001b[38;5;241m>\u001b[39m \u001b[38;5;241m1\u001b[39m\n\u001b[1;32m    104\u001b[0m params \u001b[38;5;241m=\u001b[39m \u001b[38;5;28mself\u001b[39m\u001b[38;5;241m.\u001b[39mfill_params_batch(theta) \u001b[38;5;28;01mif\u001b[39;00m batch \u001b[38;5;28;01melse\u001b[39;00m \u001b[38;5;28mself\u001b[39m\u001b[38;5;241m.\u001b[39mfill_params(theta)\n\u001b[0;32m--> 105\u001b[0m prediction \u001b[38;5;241m=\u001b[39m \u001b[38;5;28;43mself\u001b[39;49m\u001b[38;5;241;43m.\u001b[39;49m\u001b[43mget_model_prediction\u001b[49m\u001b[43m(\u001b[49m\u001b[43mparams\u001b[49m\u001b[43m)\u001b[49m\n\u001b[1;32m    106\u001b[0m diff \u001b[38;5;241m=\u001b[39m \u001b[38;5;28mself\u001b[39m\u001b[38;5;241m.\u001b[39mobservation \u001b[38;5;241m-\u001b[39m prediction\n\u001b[1;32m    107\u001b[0m \u001b[38;5;28;01mif\u001b[39;00m batch:\n",
      "File \u001b[0;32m/global/u1/c/cuesta/sunbird/sunbird/inference/pocomc.py:92\u001b[0m, in \u001b[0;36mPocoMCSampler.get_model_prediction\u001b[0;34m(self, theta)\u001b[0m\n\u001b[1;32m     83\u001b[0m \u001b[38;5;28;01mdef\u001b[39;00m \u001b[38;5;21mget_model_prediction\u001b[39m(\u001b[38;5;28mself\u001b[39m, theta):\n\u001b[1;32m     84\u001b[0m \u001b[38;5;250m    \u001b[39m\u001b[38;5;124;03m\"\"\"Get model prediction\u001b[39;00m\n\u001b[1;32m     85\u001b[0m \n\u001b[1;32m     86\u001b[0m \u001b[38;5;124;03m    Args:\u001b[39;00m\n\u001b[0;32m   (...)\u001b[0m\n\u001b[1;32m     90\u001b[0m \u001b[38;5;124;03m        np.array: model prediction\u001b[39;00m\n\u001b[1;32m     91\u001b[0m \u001b[38;5;124;03m    \"\"\"\u001b[39;00m\n\u001b[0;32m---> 92\u001b[0m     \u001b[38;5;28;01mreturn\u001b[39;00m \u001b[38;5;28;43mself\u001b[39;49m\u001b[38;5;241;43m.\u001b[39;49m\u001b[43mtheory_model\u001b[49m\u001b[38;5;241;43m.\u001b[39;49m\u001b[43mget_prediction\u001b[49m\u001b[43m(\u001b[49m\u001b[43mx\u001b[49m\u001b[38;5;241;43m=\u001b[39;49m\u001b[43mtheta\u001b[49m\u001b[43m)\u001b[49m\n",
      "File \u001b[0;32m/global/u1/c/cuesta/sunbird/sunbird/emulators/models/fcn.py:283\u001b[0m, in \u001b[0;36mFCN.get_prediction\u001b[0;34m(self, x, filters)\u001b[0m\n\u001b[1;32m    281\u001b[0m \u001b[38;5;28;01mif\u001b[39;00m \u001b[38;5;28mself\u001b[39m\u001b[38;5;241m.\u001b[39mtransform_input:\n\u001b[1;32m    282\u001b[0m     x \u001b[38;5;241m=\u001b[39m \u001b[38;5;28mself\u001b[39m\u001b[38;5;241m.\u001b[39mtransform_input\u001b[38;5;241m.\u001b[39mtransform(x)\n\u001b[0;32m--> 283\u001b[0m y, _ \u001b[38;5;241m=\u001b[39m \u001b[38;5;28;43mself\u001b[39;49m\u001b[38;5;241;43m.\u001b[39;49m\u001b[43mforward\u001b[49m\u001b[43m(\u001b[49m\u001b[43mx\u001b[49m\u001b[43m)\u001b[49m \n\u001b[1;32m    284\u001b[0m \u001b[38;5;28;01mif\u001b[39;00m \u001b[38;5;28mself\u001b[39m\u001b[38;5;241m.\u001b[39mstandarize_output:\n\u001b[1;32m    285\u001b[0m     std_output \u001b[38;5;241m=\u001b[39m \u001b[38;5;28mself\u001b[39m\u001b[38;5;241m.\u001b[39mstd_output\u001b[38;5;241m.\u001b[39mto(x\u001b[38;5;241m.\u001b[39mdevice)\n",
      "File \u001b[0;32m/global/u1/c/cuesta/sunbird/sunbird/emulators/models/fcn.py:262\u001b[0m, in \u001b[0;36mFCN.forward\u001b[0;34m(self, x)\u001b[0m\n\u001b[1;32m    253\u001b[0m \u001b[38;5;250m\u001b[39m\u001b[38;5;124;03m\"\"\"Run the forward model\u001b[39;00m\n\u001b[1;32m    254\u001b[0m \n\u001b[1;32m    255\u001b[0m \u001b[38;5;124;03mArgs:\u001b[39;00m\n\u001b[0;32m   (...)\u001b[0m\n\u001b[1;32m    259\u001b[0m \u001b[38;5;124;03m    Tensor: output\u001b[39;00m\n\u001b[1;32m    260\u001b[0m \u001b[38;5;124;03m\"\"\"\u001b[39;00m\n\u001b[1;32m    261\u001b[0m \u001b[38;5;28;01mif\u001b[39;00m \u001b[38;5;28mself\u001b[39m\u001b[38;5;241m.\u001b[39mstandarize_input:\n\u001b[0;32m--> 262\u001b[0m     std_input \u001b[38;5;241m=\u001b[39m \u001b[38;5;28mself\u001b[39m\u001b[38;5;241m.\u001b[39mstd_input\u001b[38;5;241m.\u001b[39mto(\u001b[43mx\u001b[49m\u001b[38;5;241;43m.\u001b[39;49m\u001b[43mdevice\u001b[49m)\n\u001b[1;32m    263\u001b[0m     mean_input \u001b[38;5;241m=\u001b[39m \u001b[38;5;28mself\u001b[39m\u001b[38;5;241m.\u001b[39mmean_input\u001b[38;5;241m.\u001b[39mto(x\u001b[38;5;241m.\u001b[39mdevice)\n\u001b[1;32m    264\u001b[0m     x \u001b[38;5;241m=\u001b[39m (x \u001b[38;5;241m-\u001b[39m mean_input) \u001b[38;5;241m/\u001b[39m std_input\n",
      "\u001b[0;31mAttributeError\u001b[0m: 'numpy.ndarray' object has no attribute 'device'"
     ]
    }
   ],
   "source": [
    "sampler = PocoMCSampler(\n",
    "    observation=data_y,\n",
    "    precision_matrix=precision_matrix,\n",
    "    theory_model=model,\n",
    "    fixed_parameters=fixed_params,\n",
    "    priors=priors,\n",
    "    ranges=ranges,\n",
    "    labels=labels,\n",
    "    ellipsoid=True\n",
    ")\n",
    "\n",
    "sampler(vectorize=True, n_total=500)"
   ]
  },
  {
   "cell_type": "code",
   "execution_count": null,
   "metadata": {},
   "outputs": [],
   "source": []
  }
 ],
 "metadata": {
  "kernelspec": {
   "display_name": "acm",
   "language": "python",
   "name": "python3"
  },
  "language_info": {
   "codemirror_mode": {
    "name": "ipython",
    "version": 3
   },
   "file_extension": ".py",
   "mimetype": "text/x-python",
   "name": "python",
   "nbconvert_exporter": "python",
   "pygments_lexer": "ipython3",
   "version": "3.11.7"
  }
 },
 "nbformat": 4,
 "nbformat_minor": 2
}
