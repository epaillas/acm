{
 "cells": [
  {
   "cell_type": "code",
   "execution_count": 1,
   "metadata": {},
   "outputs": [],
   "source": [
    "import matplotlib.pyplot as plt\n",
    "import acm.observables.emc as emc\n",
    "from pathlib import Path\n",
    "import numpy as np\n",
    "import torch\n",
    "plt.style.use(['science','no-latex'])"
   ]
  },
  {
   "cell_type": "code",
   "execution_count": 8,
   "metadata": {},
   "outputs": [],
   "source": [
    "stat_map = {\n",
    "    'number_density': emc.GalaxyNumberDensity(\n",
    "        select_filters={'cosmo_idx': [0], 'hod_idx': [30,], 'multipoles': [0, 2]},\n",
    "        slice_filters={},\n",
    "    ),\n",
    "    'wp': emc.GalaxyProjectedCorrelationFunction(\n",
    "        select_filters={'cosmo_idx': [0], 'hod_idx': [30,], 'multipoles': [0, 2]},\n",
    "        slice_filters={}),\n",
    "    'tpcf': emc.GalaxyCorrelationFunctionMultipoles(\n",
    "        select_filters={'cosmo_idx': [0], 'hod_idx': [30,], 'multipoles': [0, 2]},\n",
    "        slice_filters={}),\n",
    "    'pk': emc.GalaxyPowerSpectrumMultipoles(\n",
    "        select_filters={'cosmo_idx': [0], 'hod_idx': [30,]}, \n",
    "        slice_filters={}),\n",
    "    'bk': emc.GalaxyBispectrumMultipoles(\n",
    "        select_filters={'cosmo_idx': [0], 'hod_idx': [30,]}, \n",
    "        slice_filters={}),\n",
    "    'wst': emc.WaveletScatteringTransform(\n",
    "        select_filters={'cosmo_idx': [0], 'hod_idx': [30,]}, \n",
    "        slice_filters={}),\n",
    "    'dt_voids': emc.DTVoidGalaxyCorrelationFunctionMultipoles(\n",
    "        select_filters={'cosmo_idx': [0], 'hod_idx': [30,]}, \n",
    "        slice_filters={}),\n",
    "    'dsc_pk': emc.DensitySplitPowerSpectrumMultipoles(\n",
    "        select_filters={'cosmo_idx': [0], 'hod_idx': [30,]}, \n",
    "        slice_filters={}),\n",
    "    'minkowski': emc.MinkowskiFunctionals(\n",
    "        select_filters={'cosmo_idx': [0], 'hod_idx': [30,]}, \n",
    "        slice_filters={}),\n",
    "}"
   ]
  },
  {
   "cell_type": "code",
   "execution_count": 4,
   "metadata": {},
   "outputs": [],
   "source": [
    "\n",
    "import torch \n",
    "import torch.func as func\n",
    "\n",
    "def get_gradient(statistic):\n",
    "    fiducial_parameters = stat_map[statistic].lhc_x\n",
    "    fiducial_parameters = torch.tensor(fiducial_parameters.astype(np.float32), requires_grad=True,).unsqueeze(0)\n",
    "    def model_fn(x_batch):\n",
    "        # Add batch dimension for the model\n",
    "        return stat_map[statistic].model.get_prediction(x_batch)\n",
    "    return func.jacrev(model_fn)(fiducial_parameters).detach().squeeze().numpy()\n",
    "\n",
    "def get_full_gradients(statistics):\n",
    "    return np.vstack([get_gradient(stat) for stat in statistics],)\n",
    "\n",
    "def get_precision_matrix(full_covariance_vector):\n",
    "    if full_covariance_vector.shape[1] == 1:\n",
    "        # For 1D case, calculate variance manually and force a 1x1 matrix\n",
    "        variance = np.var(full_covariance_vector, ddof=1)\n",
    "        covariance_matrix = np.array([[variance]])\n",
    "    else:\n",
    "        covariance_matrix = np.cov(full_covariance_vector.T)\n",
    "    correction = stat_map['tpcf'].get_covariance_correction(\n",
    "        n_s=full_covariance_vector.shape[0],\n",
    "        n_d=len(covariance_matrix),\n",
    "        n_theta=20,\n",
    "        method='percival',\n",
    "    )\n",
    "    precision_matrix = np.linalg.inv(correction * covariance_matrix)\n",
    "    return precision_matrix\n",
    "\n",
    "\n",
    "def get_fisher_log_det(statistics,):\n",
    "    full_covariance_vector = np.hstack([stat_map[stat].create_small_box_y()[1] for stat in statistics])\n",
    "    precision_matrix = get_precision_matrix(full_covariance_vector)\n",
    "    gradients = get_full_gradients(statistics)\n",
    "    fisher_matrix = np.dot(gradients.T, np.dot(precision_matrix, gradients))\n",
    "    sign, fisher_log_det = np.linalg.slogdet(fisher_matrix)\n",
    "    return fisher_log_det"
   ]
  },
  {
   "cell_type": "code",
   "execution_count": 5,
   "metadata": {},
   "outputs": [
    {
     "data": {
      "text/plain": [
       "46.38607297925267"
      ]
     },
     "execution_count": 5,
     "metadata": {},
     "output_type": "execute_result"
    }
   ],
   "source": [
    "get_fisher_log_det(['tpcf'])"
   ]
  },
  {
   "cell_type": "code",
   "execution_count": 6,
   "metadata": {},
   "outputs": [
    {
     "data": {
      "text/plain": [
       "80.10231256664001"
      ]
     },
     "execution_count": 6,
     "metadata": {},
     "output_type": "execute_result"
    }
   ],
   "source": [
    "get_fisher_log_det(['tpcf','bk'])"
   ]
  },
  {
   "cell_type": "code",
   "execution_count": 7,
   "metadata": {},
   "outputs": [
    {
     "ename": "AttributeError",
     "evalue": "'MinkowskiFunctionals' object has no attribute 'create_small_box_y'",
     "output_type": "error",
     "traceback": [
      "\u001b[0;31m---------------------------------------------------------------------------\u001b[0m",
      "\u001b[0;31mAttributeError\u001b[0m                            Traceback (most recent call last)",
      "Cell \u001b[0;32mIn[7], line 1\u001b[0m\n\u001b[0;32m----> 1\u001b[0m \u001b[43mget_fisher_log_det\u001b[49m\u001b[43m(\u001b[49m\u001b[43m[\u001b[49m\u001b[38;5;124;43m'\u001b[39;49m\u001b[38;5;124;43mtpcf\u001b[39;49m\u001b[38;5;124;43m'\u001b[39;49m\u001b[43m,\u001b[49m\u001b[38;5;124;43m'\u001b[39;49m\u001b[38;5;124;43mbk\u001b[39;49m\u001b[38;5;124;43m'\u001b[39;49m\u001b[43m,\u001b[49m\u001b[43m \u001b[49m\u001b[38;5;124;43m'\u001b[39;49m\u001b[38;5;124;43mminkowski\u001b[39;49m\u001b[38;5;124;43m'\u001b[39;49m\u001b[43m]\u001b[49m\u001b[43m)\u001b[49m\n",
      "Cell \u001b[0;32mIn[4], line 33\u001b[0m, in \u001b[0;36mget_fisher_log_det\u001b[0;34m(statistics)\u001b[0m\n\u001b[1;32m     32\u001b[0m \u001b[38;5;28;01mdef\u001b[39;00m \u001b[38;5;21mget_fisher_log_det\u001b[39m(statistics,):\n\u001b[0;32m---> 33\u001b[0m     full_covariance_vector \u001b[38;5;241m=\u001b[39m np\u001b[38;5;241m.\u001b[39mhstack(\u001b[43m[\u001b[49m\u001b[43mstat_map\u001b[49m\u001b[43m[\u001b[49m\u001b[43mstat\u001b[49m\u001b[43m]\u001b[49m\u001b[38;5;241;43m.\u001b[39;49m\u001b[43mcreate_small_box_y\u001b[49m\u001b[43m(\u001b[49m\u001b[43m)\u001b[49m\u001b[43m[\u001b[49m\u001b[38;5;241;43m1\u001b[39;49m\u001b[43m]\u001b[49m\u001b[43m \u001b[49m\u001b[38;5;28;43;01mfor\u001b[39;49;00m\u001b[43m \u001b[49m\u001b[43mstat\u001b[49m\u001b[43m \u001b[49m\u001b[38;5;129;43;01min\u001b[39;49;00m\u001b[43m \u001b[49m\u001b[43mstatistics\u001b[49m\u001b[43m]\u001b[49m)\n\u001b[1;32m     34\u001b[0m     precision_matrix \u001b[38;5;241m=\u001b[39m get_precision_matrix(full_covariance_vector)\n\u001b[1;32m     35\u001b[0m     gradients \u001b[38;5;241m=\u001b[39m get_full_gradients(statistics)\n",
      "Cell \u001b[0;32mIn[4], line 33\u001b[0m, in \u001b[0;36m<listcomp>\u001b[0;34m(.0)\u001b[0m\n\u001b[1;32m     32\u001b[0m \u001b[38;5;28;01mdef\u001b[39;00m \u001b[38;5;21mget_fisher_log_det\u001b[39m(statistics,):\n\u001b[0;32m---> 33\u001b[0m     full_covariance_vector \u001b[38;5;241m=\u001b[39m np\u001b[38;5;241m.\u001b[39mhstack([\u001b[43mstat_map\u001b[49m\u001b[43m[\u001b[49m\u001b[43mstat\u001b[49m\u001b[43m]\u001b[49m\u001b[38;5;241;43m.\u001b[39;49m\u001b[43mcreate_small_box_y\u001b[49m()[\u001b[38;5;241m1\u001b[39m] \u001b[38;5;28;01mfor\u001b[39;00m stat \u001b[38;5;129;01min\u001b[39;00m statistics])\n\u001b[1;32m     34\u001b[0m     precision_matrix \u001b[38;5;241m=\u001b[39m get_precision_matrix(full_covariance_vector)\n\u001b[1;32m     35\u001b[0m     gradients \u001b[38;5;241m=\u001b[39m get_full_gradients(statistics)\n",
      "\u001b[0;31mAttributeError\u001b[0m: 'MinkowskiFunctionals' object has no attribute 'create_small_box_y'"
     ]
    }
   ],
   "source": [
    "get_fisher_log_det(['tpcf','bk', 'minkowski'])"
   ]
  },
  {
   "cell_type": "code",
   "execution_count": 9,
   "metadata": {},
   "outputs": [],
   "source": [
    "\n",
    "def precompute_derivatives_and_covariance(statistics=['tpcf', 'bk']):\n",
    "    precomputed = {}\n",
    "    precomputed['derivatives'] = {}\n",
    "    for stat_name in statistics:\n",
    "        precomputed['derivatives'][stat_name] = get_gradient(stat_name)\n",
    "    \n",
    "    precomputed['covariance_data'] = {}\n",
    "    for stat_name in statistics:\n",
    "        precomputed['covariance_data'][stat_name] = stat_map[stat_name].create_small_box_y()[1]\n",
    "    \n",
    "    precomputed['bin_counts'] = {\n",
    "        stat_name: precomputed['derivatives'][stat_name].shape[1] \n",
    "        for stat_name in statistics\n",
    "    }\n",
    "    return precomputed"
   ]
  },
  {
   "cell_type": "code",
   "execution_count": 10,
   "metadata": {},
   "outputs": [],
   "source": [
    "precomputed = precompute_derivatives_and_covariance(statistics=['tpcf', 'bk'])"
   ]
  },
  {
   "cell_type": "code",
   "execution_count": 11,
   "metadata": {},
   "outputs": [
    {
     "data": {
      "text/plain": [
       "((150, 20), (478, 20))"
      ]
     },
     "execution_count": 11,
     "metadata": {},
     "output_type": "execute_result"
    }
   ],
   "source": [
    "precomputed['derivatives']['tpcf'].shape, precomputed['derivatives']['bk'].shape"
   ]
  },
  {
   "cell_type": "code",
   "execution_count": 14,
   "metadata": {},
   "outputs": [],
   "source": [
    "\n",
    "\n",
    "def greedy_bin_selection(precomputed, max_bins=10,):\n",
    "    derivatives = precomputed['derivatives']\n",
    "    covariance_data = precomputed['covariance_data']\n",
    "    statistics = list(derivatives.keys())\n",
    "    \n",
    "    available_bins = {\n",
    "        stat_name: list(range(derivatives[stat_name].shape[0]))\n",
    "        for stat_name in statistics\n",
    "    }\n",
    "    selected_bins = {stat_name: [] for stat_name in statistics}\n",
    "    \n",
    "    current_log_det = float('-inf')\n",
    "    total_selected_bins = 0\n",
    "    \n",
    "    all_bins = []\n",
    "    for stat_name in statistics:\n",
    "        for bin_idx in available_bins[stat_name]:\n",
    "            all_bins.append((stat_name, bin_idx))\n",
    "    \n",
    "    print(f\"Total bins to evaluate: {len(all_bins)}\")\n",
    "    \n",
    "    while total_selected_bins < max_bins and all_bins:\n",
    "        best_bin = None\n",
    "        best_log_det = current_log_det\n",
    "        best_improvement = 0\n",
    "        \n",
    "        for i, (stat_name, bin_idx) in enumerate(all_bins):\n",
    "            temp_selected = {\n",
    "                stat: selected_bins[stat].copy() for stat in statistics\n",
    "            }\n",
    "            temp_selected[stat_name].append(bin_idx)\n",
    "            \n",
    "            new_log_det = evaluate_selected_bins_precomputed(\n",
    "                temp_selected, \n",
    "                derivatives, \n",
    "                covariance_data\n",
    "            )\n",
    "            \n",
    "            improvement = new_log_det - current_log_det\n",
    "            if improvement > best_improvement:\n",
    "                best_improvement = improvement\n",
    "                best_log_det = new_log_det\n",
    "                best_bin = i\n",
    "\n",
    "        \n",
    "        if best_bin is None or best_improvement < 1e-6:\n",
    "            print(\"No significant improvement found, stopping early\")\n",
    "            break\n",
    "        \n",
    "        stat_name, bin_idx = all_bins.pop(best_bin)\n",
    "        selected_bins[stat_name].append(bin_idx)\n",
    "        total_selected_bins += 1\n",
    "        current_log_det = best_log_det\n",
    "        \n",
    "        if total_selected_bins % 5 == 0 or total_selected_bins == max_bins:\n",
    "            print(f\"Selected {total_selected_bins}/{max_bins} bins, current log-det: {current_log_det:.4f}\")\n",
    "            distribution = \", \".join([f\"{stat}: {len(bins)}\" for stat, bins in selected_bins.items()])\n",
    "            print(f\"Distribution: {distribution}\")\n",
    "    \n",
    "    return selected_bins, current_log_det\n",
    "\n",
    "def evaluate_selected_bins_precomputed(selected_bins, derivatives, covariance_data):\n",
    "\n",
    "    selected_cov_data = []\n",
    "    selected_grads = []\n",
    "    \n",
    "    for stat_name, bin_indices in selected_bins.items():\n",
    "        if not bin_indices:\n",
    "            continue\n",
    "            \n",
    "        full_cov_data = covariance_data[stat_name]\n",
    "        selected_cov_data.append(full_cov_data[:, bin_indices])\n",
    "        \n",
    "        full_derivatives = derivatives[stat_name]\n",
    "        selected_grads.append(full_derivatives[bin_indices,:])\n",
    "    \n",
    "    full_covariance_vector = np.hstack(selected_cov_data)\n",
    "    gradients = np.vstack(selected_grads)\n",
    "    precision_matrix = get_precision_matrix(full_covariance_vector)\n",
    "    fisher_matrix = gradients.T @ precision_matrix @ gradients\n",
    "    \n",
    "    sign, log_det = np.linalg.slogdet(fisher_matrix)\n",
    "    if sign <= 0:\n",
    "        return float('-inf')\n",
    "    \n",
    "    return log_det\n",
    "\n",
    "def run_optimization(statistics=['tpcf', 'bk'], max_bins=100):\n",
    "    print(f\"Precomputing data for statistics: {statistics}\")\n",
    "    precomputed_data = precompute_derivatives_and_covariance(statistics)\n",
    "    \n",
    "    print(f\"\\nRunning greedy selection with max_bins={max_bins}\")\n",
    "    selected_bins, final_log_det = greedy_bin_selection(precomputed_data, max_bins=max_bins)\n",
    "    \n",
    "    # Print final results\n",
    "    print(\"\\nFinal selection:\")\n",
    "    for stat, bins in selected_bins.items():\n",
    "        print(f\"{stat}: {len(bins)} bins selected\")\n",
    "    print(f\"Total: {sum(len(bins) for bins in selected_bins.values())} bins\")\n",
    "    print(f\"Final log-determinant: {final_log_det:.4f}\")\n",
    "    \n",
    "    return selected_bins, final_log_det"
   ]
  },
  {
   "cell_type": "code",
   "execution_count": 15,
   "metadata": {},
   "outputs": [
    {
     "name": "stdout",
     "output_type": "stream",
     "text": [
      "Precomputing data for statistics: ['tpcf', 'bk']\n",
      "\n",
      "Running greedy selection with max_bins=20\n",
      "Total bins to evaluate: 628\n",
      "Selected 5/20 bins, current log-det: -401.9209\n",
      "Distribution: tpcf: 4, bk: 1\n",
      "Selected 10/20 bins, current log-det: -238.6040\n",
      "Distribution: tpcf: 7, bk: 3\n",
      "Selected 15/20 bins, current log-det: -90.0780\n",
      "Distribution: tpcf: 9, bk: 6\n",
      "Selected 20/20 bins, current log-det: 43.3513\n",
      "Distribution: tpcf: 11, bk: 9\n",
      "\n",
      "Final selection:\n",
      "tpcf: 11 bins selected\n",
      "bk: 9 bins selected\n",
      "Total: 20 bins\n",
      "Final log-determinant: 43.3513\n"
     ]
    }
   ],
   "source": [
    "selected_bins, final_log_det = run_optimization(statistics=['tpcf', 'bk'], max_bins=20)"
   ]
  },
  {
   "cell_type": "code",
   "execution_count": 16,
   "metadata": {},
   "outputs": [
    {
     "name": "stdout",
     "output_type": "stream",
     "text": [
      "Precomputing data for statistics: ['tpcf', 'bk']\n",
      "\n",
      "Running greedy selection with max_bins=100\n",
      "Total bins to evaluate: 628\n",
      "Selected 5/100 bins, current log-det: -401.9209\n",
      "Distribution: tpcf: 4, bk: 1\n",
      "Selected 10/100 bins, current log-det: -238.6040\n",
      "Distribution: tpcf: 7, bk: 3\n",
      "Selected 15/100 bins, current log-det: -90.0780\n",
      "Distribution: tpcf: 9, bk: 6\n",
      "Selected 20/100 bins, current log-det: 43.3513\n",
      "Distribution: tpcf: 11, bk: 9\n",
      "Selected 25/100 bins, current log-det: 54.0682\n",
      "Distribution: tpcf: 12, bk: 13\n",
      "Selected 30/100 bins, current log-det: 58.8847\n",
      "Distribution: tpcf: 14, bk: 16\n",
      "Selected 35/100 bins, current log-det: 61.9713\n",
      "Distribution: tpcf: 15, bk: 20\n",
      "Selected 40/100 bins, current log-det: 64.3042\n",
      "Distribution: tpcf: 15, bk: 25\n",
      "Selected 45/100 bins, current log-det: 66.0838\n",
      "Distribution: tpcf: 15, bk: 30\n",
      "Selected 50/100 bins, current log-det: 67.8263\n",
      "Distribution: tpcf: 17, bk: 33\n",
      "Selected 55/100 bins, current log-det: 69.0499\n",
      "Distribution: tpcf: 17, bk: 38\n",
      "Selected 60/100 bins, current log-det: 70.1074\n",
      "Distribution: tpcf: 17, bk: 43\n",
      "Selected 65/100 bins, current log-det: 71.0263\n",
      "Distribution: tpcf: 17, bk: 48\n",
      "Selected 70/100 bins, current log-det: 71.8088\n",
      "Distribution: tpcf: 18, bk: 52\n",
      "Selected 75/100 bins, current log-det: 72.5134\n",
      "Distribution: tpcf: 18, bk: 57\n",
      "Selected 80/100 bins, current log-det: 73.1729\n",
      "Distribution: tpcf: 18, bk: 62\n",
      "Selected 85/100 bins, current log-det: 73.7821\n",
      "Distribution: tpcf: 18, bk: 67\n",
      "Selected 90/100 bins, current log-det: 74.3252\n",
      "Distribution: tpcf: 18, bk: 72\n",
      "Selected 95/100 bins, current log-det: 74.8304\n",
      "Distribution: tpcf: 20, bk: 75\n",
      "Selected 100/100 bins, current log-det: 75.2828\n",
      "Distribution: tpcf: 20, bk: 80\n",
      "\n",
      "Final selection:\n",
      "tpcf: 20 bins selected\n",
      "bk: 80 bins selected\n",
      "Total: 100 bins\n",
      "Final log-determinant: 75.2828\n"
     ]
    }
   ],
   "source": [
    "selected_bins, final_log_det = run_optimization(statistics=['tpcf', 'bk'], max_bins=100)"
   ]
  },
  {
   "cell_type": "code",
   "execution_count": null,
   "metadata": {},
   "outputs": [],
   "source": []
  },
  {
   "cell_type": "code",
   "execution_count": null,
   "metadata": {},
   "outputs": [],
   "source": []
  }
 ],
 "metadata": {
  "kernelspec": {
   "display_name": "acm",
   "language": "python",
   "name": "python3"
  },
  "language_info": {
   "codemirror_mode": {
    "name": "ipython",
    "version": 3
   },
   "file_extension": ".py",
   "mimetype": "text/x-python",
   "name": "python",
   "nbconvert_exporter": "python",
   "pygments_lexer": "ipython3",
   "version": "3.11.7"
  }
 },
 "nbformat": 4,
 "nbformat_minor": 2
}
