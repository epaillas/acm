{
 "cells": [
  {
   "cell_type": "markdown",
   "metadata": {},
   "source": [
    "# Density-Split statistics\n",
    "\n",
    "> Note : Due to a conflict of versions in the `cosmodesi`environment, it is not possible to run the `densitysplit` code in a notebook at the moment. However, the code is correct and can be run in a python script (given a swap of the `pyrecon` module to a previous version)."
   ]
  },
  {
   "cell_type": "code",
   "execution_count": null,
   "metadata": {},
   "outputs": [],
   "source": [
    "import numpy as np\n",
    "from pathlib import Path\n",
    "from astropy.io import fits\n",
    "import matplotlib.pyplot as plt\n",
    "\n",
    "from acm.estimators.galaxy_clustering.densitysplit import DensitySplit"
   ]
  },
  {
   "cell_type": "code",
   "execution_count": null,
   "metadata": {},
   "outputs": [],
   "source": [
    "# Load the data\n",
    "data_fn = Path('data/mock_data.fits')\n",
    "with fits.open(data_fn) as hdul:\n",
    "    data = hdul[1].data\n",
    "data_positions = np.c_[data['X'], data['Y'], data['Z']]\n",
    "\n",
    "# Densitysplit properties \n",
    "boxsize = 1500\n",
    "smoothing_radius = 20\n",
    "cellsize = 10.0\n",
    "nquantiles=3\n",
    "\n",
    "# Correlation function properties\n",
    "sedges = np.linspace(0, 150, 151) # 1 Mpc/h bins\n",
    "muedges = np.linspace(-1, 1, 120) # 240 bins\n",
    "edges = (sedges, muedges)"
   ]
  },
  {
   "cell_type": "code",
   "execution_count": null,
   "metadata": {},
   "outputs": [],
   "source": [
    "ds = DensitySplit(boxsize=boxsize, boxcenter=boxsize/2, cellsize=cellsize)\n",
    "ds.assign_data(positions=data_positions, wrap=True, clear_previous=True)\n",
    "ds.set_density_contrast(smoothing_radius=smoothing_radius)\n",
    "\n",
    "quantiles, quantiles_idx, _ = ds.set_quantiles(nquantiles=nquantiles, query_method='randoms')\n",
    "\n",
    "ccf_los = ds.quantile_data_correlation(\n",
    "    data_positions, \n",
    "    edges=edges, \n",
    "    los='z'\n",
    ")\n",
    "acf_los = ds.quantile_correlation(\n",
    "    edges=edges, los='z', \n",
    ")"
   ]
  },
  {
   "cell_type": "code",
   "execution_count": null,
   "metadata": {},
   "outputs": [],
   "source": [
    "# Plot 3 quantiles\n",
    "fig, ax = plt.subplots(1, 1, figsize=(5, 5))\n",
    "colors=['blue', 'gray', 'crimson']\n",
    "labels = [fr'$Q_{{{i}}}$' for i in range(3)]\n",
    "\n",
    "for i in range(3):\n",
    "    cut = quantiles[i][:, 2] < 50\n",
    "\n",
    "    ax.scatter(quantiles[i][cut, 0], quantiles[i][cut, 1],\n",
    "        s=1.0, color=colors[i], label=labels[i])\n",
    "\n",
    "ax.set_xlabel('x [Mpc/h]', fontsize=12)\n",
    "ax.set_ylabel('x [Mpc/h]', fontsize=12)\n",
    "ax.set_xlim(0, boxsize)\n",
    "ax.set_ylim(0, boxsize)\n",
    "\n",
    "ax.legend(fontsize=12, markerscale=5, loc='upper left');"
   ]
  },
  {
   "cell_type": "code",
   "execution_count": null,
   "metadata": {},
   "outputs": [],
   "source": [
    "ds.plot_quantiles()\n",
    "ds.plot_quantile_data_correlation()\n",
    "ds.plot_quantile_correlation()"
   ]
  }
 ],
 "metadata": {
  "kernelspec": {
   "display_name": "base",
   "language": "python",
   "name": "python3"
  },
  "language_info": {
   "name": "python",
   "version": "3.10.13"
  }
 },
 "nbformat": 4,
 "nbformat_minor": 2
}
