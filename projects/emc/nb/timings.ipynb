{
 "cells": [
  {
   "cell_type": "code",
   "execution_count": 14,
   "id": "4a1d6704-0f83-4698-887e-4aa8bbea5ed5",
   "metadata": {
    "tags": []
   },
   "outputs": [
    {
     "name": "stdout",
     "output_type": "stream",
     "text": [
      "(1657500,)\n"
     ]
    }
   ],
   "source": [
    "from pathlib import Path\n",
    "import numpy as np\n",
    "import torch\n",
    "import matplotlib.pyplot as plt\n",
    "import sys\n",
    "from acm.data.io_tools import *\n",
    "plt.rc('text', usetex=True)\n",
    "plt.rc('font', family='serif')\n",
    "\n",
    "statistic = 'pk'\n",
    "\n",
    "select_filters = {}\n",
    "slice_filters = {'k': [0.0, 0.5]}\n",
    "# slice_filters = {}\n",
    "\n",
    "covariance_matrix, n_sim = read_covariance(statistics=[statistic],\n",
    "                                        select_filters=select_filters,\n",
    "                                        slice_filters=slice_filters)\n",
    "sep, lhc_x, lhc_y, lhc_x_names = read_lhc(statistics=[statistic],\n",
    "                                        select_filters=select_filters,\n",
    "                                        slice_filters=slice_filters,\n",
    "                                        return_sep=True)\n",
    "model = read_model(statistics=[statistic])[0]\n",
    "print(lhc_y.shape)"
   ]
  },
  {
   "cell_type": "code",
   "execution_count": 8,
   "id": "1da31c4c-e415-4af4-8d62-3585c80f141d",
   "metadata": {
    "tags": []
   },
   "outputs": [
    {
     "name": "stdout",
     "output_type": "stream",
     "text": [
      "torch.Size([])\n"
     ]
    },
    {
     "data": {
      "text/plain": [
       "tensor([-35536424.0000,  -8407884.0000,  -7622259.5000,  57237388.0000,\n",
       "         36950632.0000,  -3168056.7500,  16238345.0000,  16210350.0000,\n",
       "         -1698558.7500,    247347.3750,  -3649981.0000,    358243.5625,\n",
       "          2982819.2500,    111051.9219,   2361370.2500,  -2466823.0000,\n",
       "         -2692556.7500,   1418516.3750,   -986200.7500,   -142454.2344,\n",
       "          1697124.3750,  -1582668.1250,   2816829.5000,   1808692.0000,\n",
       "          -410931.1250,   1175163.5000,   2206542.5000,   2667788.7500,\n",
       "           927594.3750,   1346114.2500,   2945211.5000,   -411146.5625,\n",
       "          -625556.1875,  -1613276.5000,  -1285727.6250,  -1830040.2500,\n",
       "          -739527.1250,  -1411010.1250,  -3528035.7500,  12739547.0000,\n",
       "          4097759.7500, -11594073.0000,  10255659.0000,  -5181632.5000,\n",
       "         -4406473.5000,  -3079057.0000,  -3753725.2500, -13696124.0000,\n",
       "        -20340812.0000, -10971453.0000,  -5466499.5000, -12635467.0000,\n",
       "        -10022844.0000, -13757369.0000,  -6742997.0000,   -939678.6250,\n",
       "         -7162007.5000,  -1109363.5000,  -7128913.5000,  -3376133.5000,\n",
       "         -2513485.7500,   2211449.7500,  -2491985.0000,  -1199335.5000,\n",
       "          -215416.6719,   -882264.1250,   -487816.5938,  -1243237.1250,\n",
       "         -1247215.1250,   -919482.8750,  -4611722.5000,   -684012.5625,\n",
       "         -2268120.0000,   -787024.6875,   -991890.3125,  -3018663.7500,\n",
       "           728505.1875,  -1842053.0000], grad_fn=<AddBackward0>)"
      ]
     },
     "execution_count": 8,
     "metadata": {},
     "output_type": "execute_result"
    }
   ],
   "source": [
    "pred_test_y = model.get_prediction(torch.Tensor(lhc_x))\n",
    "pred_test_y"
   ]
  }
 ],
 "metadata": {
  "kernelspec": {
   "display_name": "cosmodesi-main",
   "language": "python",
   "name": "cosmodesi-main"
  },
  "language_info": {
   "codemirror_mode": {
    "name": "ipython",
    "version": 3
   },
   "file_extension": ".py",
   "mimetype": "text/x-python",
   "name": "python",
   "nbconvert_exporter": "python",
   "pygments_lexer": "ipython3",
   "version": "3.10.13"
  }
 },
 "nbformat": 4,
 "nbformat_minor": 5
}
