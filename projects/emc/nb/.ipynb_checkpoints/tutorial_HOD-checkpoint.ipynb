{
 "cells": [
  {
   "cell_type": "code",
   "execution_count": 1,
   "id": "43f85ee7-468c-45b2-b323-8c51dcf0cb38",
   "metadata": {
    "tags": []
   },
   "outputs": [
    {
     "data": {
      "text/plain": [
       "{'boxsize': None,\n",
       " 'path_to_sim': '/global/cscratch1/sd/arocher/data_cat/',\n",
       " 'sim_name': 'AbacusSummit_highbase_c000_ph100',\n",
       " 'z_simu': 1.1,\n",
       " 'use_particles': False,\n",
       " 'particle_filename': None,\n",
       " 'mass_cut': None}"
      ]
     },
     "execution_count": 1,
     "metadata": {},
     "output_type": "execute_result"
    }
   ],
   "source": [
    "import hod_dev\n",
    "import yaml\n",
    "param_file = f'parameters_HODdefaults.yaml'\n",
    "paramv2 = yaml.load(open(param_file), Loader=yaml.FullLoader)\n",
    "\n",
    "paramv2['hcat'] # if read_abacus = True, automatically set the boxsize/cosmology"
   ]
  },
  {
   "cell_type": "code",
   "execution_count": null,
   "id": "7f0686f5-26fb-4606-9c9c-16eea4e6a3ae",
   "metadata": {
    "tags": []
   },
   "outputs": [
    {
     "name": "stdout",
     "output_type": "stream",
     "text": [
      "Set number of threads to 64\n",
      "Load Compaso cat from /global/cfs/cdirs/desi/cosmosim/Abacus/AbacusSummit_highbase_c000_ph100/halos/z1.100 ...\n",
      "Done took 00:00:14\n"
     ]
    }
   ],
   "source": [
    "HOD_obj=hod_dev.HOD(args=paramv2, read_Abacus=True)\n"
   ]
  },
  {
   "cell_type": "code",
   "execution_count": null,
   "id": "dbc2aa95-8588-4ba9-87bc-cb52f5096827",
   "metadata": {
    "tags": []
   },
   "outputs": [],
   "source": [
    "HOD_obj.HOD_plot()"
   ]
  },
  {
   "cell_type": "code",
   "execution_count": null,
   "id": "ac0d699a-6537-4325-bb7a-1d808aa5cba5",
   "metadata": {
    "tags": []
   },
   "outputs": [],
   "source": [
    "cats = HOD_obj.make_mock_cat() #will give you all the tracers\n",
    "cat_elg = HOD_obj.make_mock_cat(tracers='ELG', fix_seed=None) # None by default\n",
    "cats, cat_elg "
   ]
  },
  {
   "cell_type": "code",
   "execution_count": null,
   "id": "7da56e50-6dd3-4d4a-bb2c-50834dda47d9",
   "metadata": {},
   "outputs": [],
   "source": [
    "#Rh is halo radius, c is the concentration, Mh the halo mass, Vrms the velocity dispersion of particules, cats['ELG']['Central'] == 0 mean satellites, Rs is the scale radius of NFW profile c = Rh/Rs"
   ]
  },
  {
   "cell_type": "code",
   "execution_count": null,
   "id": "ac7fea3d-7795-4ca4-bcea-cb61669ba52a",
   "metadata": {
    "tags": []
   },
   "outputs": [],
   "source": []
  },
  {
   "cell_type": "code",
   "execution_count": null,
   "id": "51a6bf07-b170-4b4f-a728-1357e64f24e5",
   "metadata": {
    "tags": []
   },
   "outputs": [],
   "source": [
    "HOD_obj.plot_HMF(cats, show_sat=True)"
   ]
  },
  {
   "cell_type": "code",
   "execution_count": null,
   "id": "4d79629a-e22a-4c80-a9f1-88f471d24cae",
   "metadata": {
    "tags": []
   },
   "outputs": [],
   "source": [
    "# 2PCF settings \n",
    "HOD_obj.args['2PCF_settings'] # if edges_rppi/smu are None it will take the rp_min/max"
   ]
  },
  {
   "cell_type": "code",
   "execution_count": null,
   "id": "0a6890b8-6af0-43c9-b693-f46b45aefbbb",
   "metadata": {
    "tags": []
   },
   "outputs": [],
   "source": [
    "#compute clustering for 1 tracer, it apply rsd following the los parameter\n",
    "\n",
    "rp, wp = HOD_obj.get_wp(cats, tracers='ELG')\n",
    "s, xi = HOD_obj.get_2PCF(cats, tracers='ELG')"
   ]
  },
  {
   "cell_type": "code",
   "execution_count": null,
   "id": "490f795a-fecf-4663-bbf0-58870efa690d",
   "metadata": {
    "tags": []
   },
   "outputs": [],
   "source": [
    "import matplotlib.pyplot as plt\n",
    "plt.plot(rp,rp*wp)\n",
    "plt.xscale('log')"
   ]
  },
  {
   "cell_type": "code",
   "execution_count": null,
   "id": "655d384d-9d53-41fe-8e15-223287553cb5",
   "metadata": {
    "tags": []
   },
   "outputs": [],
   "source": [
    "plt.plot(s,s*xi[0], label='l=0')\n",
    "plt.plot(s,s*xi[1], label='l=2')\n",
    "\n",
    "plt.xscale('log')\n",
    "plt.xlabel('$s$ [$\\mathrm{{Mpc}}/h$]')\n",
    "plt.ylabel(r'$s \\cdot \\xi_{\\ell}(s)$ [$\\mathrm{{Mpc}}/h$]')\n",
    "plt.xscale('log')"
   ]
  },
  {
   "cell_type": "code",
   "execution_count": null,
   "id": "b8b949db-d273-4752-ba8d-247670813ffa",
   "metadata": {
    "tags": []
   },
   "outputs": [],
   "source": [
    "# compute clsuteing for 2 tracer s\n",
    "(rp_elg, rp_lrg), (wp_elg, wp_lrg) = HOD_obj.get_wp(cats)\n",
    "plt.plot(rp_elg,rp_elg*wp_elg, label='ELG')\n",
    "plt.plot(rp_lrg,rp_lrg*wp_lrg, label='LRG')\n",
    "plt.xscale('log')"
   ]
  },
  {
   "cell_type": "code",
   "execution_count": null,
   "id": "96e205c0-959e-461a-9480-3000b865a5da",
   "metadata": {
    "tags": []
   },
   "outputs": [],
   "source": [
    "# HOD param settings\n",
    "HOD_obj.args['ELG'], HOD_obj.args['LRG']"
   ]
  },
  {
   "cell_type": "code",
   "execution_count": null,
   "id": "b91807a4-4d84-4b13-ab4b-6a4227d7a800",
   "metadata": {
    "tags": []
   },
   "outputs": [],
   "source": [
    "# HOD bf param from preliminary Y1 fits \n",
    "\n",
    "bf_elg = {'Ac': 0.1,\n",
    " 'As': 0.6406236480977622,\n",
    " 'HOD_model': 'mHMQ',\n",
    " 'sat_HOD_model': 'Nsat_pow_law',\n",
    " 'M_0': 11.18649563773729,\n",
    " 'M_1': 13,\n",
    " 'Q': 100,\n",
    " 'alpha': 0.9327192066933736,\n",
    " 'assembly_bias': {'c': [0, 0]},\n",
    " 'conformity_bias': True,\n",
    " 'density': 0.001,\n",
    " 'f_sigv': 0.9204575098580523,\n",
    " 'gamma': 1.982780725333026,\n",
    " 'log_Mcent': 11.446115506155405,\n",
    " 'pmax': 1,\n",
    " 'satellites': True,\n",
    " 'sigma_M': 0.6800774137173787,\n",
    " 'vel_sat': 'rd_normal',\n",
    " 'exp_frac': 0.07412327845781244,\n",
    " 'exp_scale': 6.175387008734116,\n",
    " 'nfw_rescale': 0.7210088711364678,\n",
    " 'v_infall': 0}\n",
    "\n",
    "bf_lrg = {'Ac': 1,\n",
    " 'As': 1,\n",
    " 'HOD_model': 'SHOD',\n",
    " 'sat_HOD_model': 'Nsat_pow_law',\n",
    " 'M_0': 12.850106558863368,\n",
    " 'M_1': 13.327903229045845,\n",
    " 'Q': 100,\n",
    " 'alpha': 0.7566096626573008,\n",
    " 'assembly_bias': {'c': [0, 0]},\n",
    " 'conformity_bias': False,\n",
    " 'density': 0.0007,\n",
    " 'f_sigv': 0.9918133714144814,\n",
    " 'gamma': 5.57,\n",
    " 'log_Mcent': 12.532108421341333,\n",
    " 'pmax': 1,\n",
    " 'satellites': True,\n",
    " 'sigma_M': 0.11262354578751274,\n",
    " 'vel_sat': 'rd_normal',\n",
    " 'exp_frac': 0,\n",
    " 'exp_scale': 6.14,\n",
    " 'nfw_rescale': 1,\n",
    " 'v_infall': 0}\n",
    "\n",
    "HOD_obj.args['ELG'].update(bf_elg), HOD_obj.args['LRG'].update(bf_lrg)\n",
    "\n",
    "cats_bf = HOD_obj.make_mock_cat()\n",
    "\n",
    "(rp_elg, rp_lrg), (wp_elg, wp_lrg) = HOD_obj.get_wp(cats_bf)\n",
    "(s_elg, s_lrg), (xi_elg, xi_lrg) = HOD_obj.get_2PCF(cats_bf)\n"
   ]
  },
  {
   "cell_type": "code",
   "execution_count": null,
   "id": "b1e73ed3-b094-4893-a98a-e9599a2c35b2",
   "metadata": {
    "tags": []
   },
   "outputs": [],
   "source": [
    "plt.plot(rp_elg,rp_elg*wp_elg, label='ELG')\n",
    "plt.ylabel('$r_{p} \\cdot w_{p}$ [$\\mathrm{{Mpc}}/h$]')\n",
    "plt.xlabel('$r_{p}$ [$\\mathrm{{Mpc}}/h$]')\n",
    "plt.xscale('log')\n",
    "plt.legend()\n",
    "plt.show()\n",
    "plt.plot(rp_lrg,rp_lrg*wp_lrg, label='LRG')\n",
    "plt.ylabel('$r_{p} \\cdot w_{p}$ [$\\mathrm{{Mpc}}/h$]')\n",
    "plt.xlabel('$r_{p}$ [$\\mathrm{{Mpc}}/h$]')\n",
    "plt.xscale('log')\n",
    "plt.legend()\n"
   ]
  },
  {
   "cell_type": "code",
   "execution_count": null,
   "id": "b6a5f559-b8fb-415b-8928-275266c67ee0",
   "metadata": {
    "tags": []
   },
   "outputs": [],
   "source": [
    "plt.plot(s_elg,s_elg*xi_elg[0], label='l=0')\n",
    "plt.plot(s_elg,s_elg*xi_elg[1], label='l=2')\n",
    "plt.xscale('log')\n",
    "plt.xlabel('$s$ [$\\mathrm{{Mpc}}/h$]')\n",
    "plt.ylabel(r'$s \\cdot \\xi_{\\ell}(s)$ [$\\mathrm{{Mpc}}/h$]')\n",
    "\n",
    "plt.title('ELG')\n",
    "plt.legend()"
   ]
  },
  {
   "cell_type": "code",
   "execution_count": null,
   "id": "a07f26db-aa7f-476d-b94a-edf65aab9e01",
   "metadata": {
    "tags": []
   },
   "outputs": [],
   "source": [
    "plt.plot(s_lrg,s_lrg*xi_lrg[0], label='l=0')\n",
    "plt.plot(s_lrg,s_lrg*xi_lrg[1], label='l=2')\n",
    "plt.xscale('log')\n",
    "plt.title('LRG')\n",
    "plt.ylabel(r'$s \\cdot \\xi_{\\ell}(s)$ [$\\mathrm{{Mpc}}/h$]')\n",
    "plt.xlabel('$s$ [$\\mathrm{{Mpc}}/h$]')\n",
    "plt.legend()"
   ]
  },
  {
   "cell_type": "code",
   "execution_count": null,
   "id": "ccb73be9-bf83-484b-b195-1e88e56d690c",
   "metadata": {},
   "outputs": [],
   "source": []
  }
 ],
 "metadata": {
  "kernelspec": {
   "display_name": "cosmodesi-main",
   "language": "python",
   "name": "cosmodesi-main"
  },
  "language_info": {
   "codemirror_mode": {
    "name": "ipython",
    "version": 3
   },
   "file_extension": ".py",
   "mimetype": "text/x-python",
   "name": "python",
   "nbconvert_exporter": "python",
   "pygments_lexer": "ipython3",
   "version": "3.10.13"
  }
 },
 "nbformat": 4,
 "nbformat_minor": 5
}
