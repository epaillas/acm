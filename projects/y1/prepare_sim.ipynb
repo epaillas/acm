{
 "cells": [
  {
   "cell_type": "code",
   "execution_count": null,
   "id": "3c6b622e-020c-4cbd-9627-5647ce2473d8",
   "metadata": {
    "tags": []
   },
   "outputs": [
    {
     "name": "stdout",
     "output_type": "stream",
     "text": [
      "Preparing AbacusSummit_base_c000_ph000 0.800\n",
      "/global/common/software/desi/users/adematti/perlmutter/cosmodesiconda/20240118-1.0.0/conda/lib/python3.10/site-packages/asdf/entry_points.py:46: AsdfWarning: asdf.extensions plugin from package asdf-astropy==0.6.1 failed to load:\n",
      "\n",
      "KeyError: 'Resource unavailable for URI: asdf://asdf-format.org/transform/manifests/transform-1.6.0'\n",
      "  warnings.warn(\n",
      "compiling compaso halo catalogs into subsampled catalogs\n",
      "processing slab  0\n",
      "loading halo catalog \n",
      "total number of halos,  40906121 keeping  9132292\n",
      "masked randoms =  12.467233937923373\n",
      "Building and querying trees for mass env calculation\n"
     ]
    }
   ],
   "source": [
    "!sh generate_summit_subsamples.sh"
   ]
  }
 ],
 "metadata": {
  "kernelspec": {
   "display_name": "cosmodesi-main",
   "language": "python",
   "name": "cosmodesi-main"
  },
  "language_info": {
   "codemirror_mode": {
    "name": "ipython",
    "version": 3
   },
   "file_extension": ".py",
   "mimetype": "text/x-python",
   "name": "python",
   "nbconvert_exporter": "python",
   "pygments_lexer": "ipython3",
   "version": "3.10.13"
  }
 },
 "nbformat": 4,
 "nbformat_minor": 5
}
